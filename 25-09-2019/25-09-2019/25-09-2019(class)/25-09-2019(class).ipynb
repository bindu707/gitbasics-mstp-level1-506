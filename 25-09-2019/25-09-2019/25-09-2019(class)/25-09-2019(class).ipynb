{
 "cells": [
  {
   "cell_type": "markdown",
   "metadata": {},
   "source": [
    "## Function to generate all the primenumbers in a given range"
   ]
  },
  {
   "cell_type": "code",
   "execution_count": 6,
   "metadata": {},
   "outputs": [
    {
     "name": "stdout",
     "output_type": "stream",
     "text": [
      "20\n",
      "30\n",
      "23,29,"
     ]
    }
   ],
   "source": [
    "def prime(lb):\n",
    "    count=0\n",
    "    for i in range(1,lb+1):\n",
    "        if lb%i==0:\n",
    "             count=count+1\n",
    "    if count==2:\n",
    "        print(i,end=\",\")\n",
    "lb=int(input())\n",
    "ub=int(input())\n",
    "for j in range(lb,ub+1):\n",
    "    prime(j)\n",
    "        "
   ]
  },
  {
   "cell_type": "code",
   "execution_count": 9,
   "metadata": {},
   "outputs": [
    {
     "name": "stdout",
     "output_type": "stream",
     "text": [
      "20\n",
      "30\n",
      "23-29-"
     ]
    }
   ],
   "source": [
    "def prime(lb):                      ## USING RETURN\n",
    "    count=0\n",
    "    for i in range(1,lb+1):\n",
    "        if lb%i==0:\n",
    "             count=count+1\n",
    "    if count==2:\n",
    "        return 1\n",
    "    else:\n",
    "        return 0\n",
    "lb=int(input())\n",
    "ub=int(input())\n",
    "for j in range(lb,ub+1):\n",
    "    if prime(j)==1:\n",
    "        print(j,end=\"-\")\n",
    "        "
   ]
  },
  {
   "cell_type": "markdown",
   "metadata": {},
   "source": [
    "TASK"
   ]
  },
  {
   "cell_type": "markdown",
   "metadata": {},
   "source": [
    "## Check whether a given number is perfect or not"
   ]
  },
  {
   "cell_type": "code",
   "execution_count": 33,
   "metadata": {},
   "outputs": [
    {
     "name": "stdout",
     "output_type": "stream",
     "text": [
      "6\n",
      "1\n",
      "2\n",
      "3\n",
      "6\n",
      "it is perfect\n"
     ]
    }
   ],
   "source": [
    "def perfect(n):\n",
    "    sum=0\n",
    "    for i in range(1,n):\n",
    "        if n%i==0:\n",
    "            sum=sum+i\n",
    "            print(i)\n",
    "    print(sum)\n",
    "    if(sum==n):\n",
    "        print(\"it is perfect\")\n",
    "    else:\n",
    "        print(\"it is not perfect\")\n",
    "n=int(input())        \n",
    "perfect(n)       "
   ]
  },
  {
   "cell_type": "markdown",
   "metadata": {},
   "source": [
    "## Program to print the sum of digits in agiven number"
   ]
  },
  {
   "cell_type": "code",
   "execution_count": 41,
   "metadata": {},
   "outputs": [
    {
     "name": "stdout",
     "output_type": "stream",
     "text": [
      "1234\n",
      "10\n"
     ]
    }
   ],
   "source": [
    "def sum(n):\n",
    "    sum=0\n",
    "    for i in range (0,n):\n",
    "        f=n%10\n",
    "        sum=sum+f\n",
    "        n=n//10\n",
    "    print(sum)\n",
    "n=int(input())\n",
    "sum(n)        "
   ]
  },
  {
   "cell_type": "markdown",
   "metadata": {},
   "source": [
    "## check whether the given number is armstrong or not"
   ]
  },
  {
   "cell_type": "code",
   "execution_count": 45,
   "metadata": {},
   "outputs": [
    {
     "ename": "IndentationError",
     "evalue": "expected an indented block (<ipython-input-45-db1de2423224>, line 5)",
     "output_type": "error",
     "traceback": [
      "\u001b[1;36m  File \u001b[1;32m\"<ipython-input-45-db1de2423224>\"\u001b[1;36m, line \u001b[1;32m5\u001b[0m\n\u001b[1;33m    elif a=n%10:\u001b[0m\n\u001b[1;37m       ^\u001b[0m\n\u001b[1;31mIndentationError\u001b[0m\u001b[1;31m:\u001b[0m expected an indented block\n"
     ]
    }
   ],
   "source": [
    "def armstrong(n):\n",
    "    sum=o\n",
    "    for i in range(1,n+1):\n",
    "        if n==0:\n",
    "    elif a=n%10:\n",
    "        sum=sum+a^3\n",
    "        n=floor(n\\10)\n",
    "    "
   ]
  },
  {
   "cell_type": "code",
   "execution_count": null,
   "metadata": {},
   "outputs": [],
   "source": []
  }
 ],
 "metadata": {
  "kernelspec": {
   "display_name": "Python 3",
   "language": "python",
   "name": "python3"
  },
  "language_info": {
   "codemirror_mode": {
    "name": "ipython",
    "version": 3
   },
   "file_extension": ".py",
   "mimetype": "text/x-python",
   "name": "python",
   "nbconvert_exporter": "python",
   "pygments_lexer": "ipython3",
   "version": "3.7.3"
  }
 },
 "nbformat": 4,
 "nbformat_minor": 2
}
