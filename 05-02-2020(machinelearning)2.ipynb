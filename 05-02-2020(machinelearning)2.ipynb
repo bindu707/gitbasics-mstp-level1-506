{
 "cells": [
  {
   "cell_type": "markdown",
   "metadata": {},
   "source": [
    " ## Machine learning\n",
    "* Machine learning is not just a simple algorithm which you can put anywhere and start getting results.it is a process that      starts with defining data and ends with the model with some defined level of accuracy. \n",
    "## Steps involved in ML     \n",
    "* 1.Defining problem     (P-performance,E-exprience,T-task)\n",
    "* 2.Collecting the data\n",
    "* 3.Prepare the data\n",
    "* 4.Split the data in training and testing\n",
    "* 5.Algorithm Selection\n",
    "* 6.Training the algorithm\n",
    "* 7.evalution on test data\n",
    "* 8.Parameter tuning\n",
    "* 9.Start using your model\n",
    "## Types of ML\n",
    "* 1.Supervised learning ----->1.Classification 2.Regression\n",
    "* 2.Unsupervised learning----->1.Clustering 2. Association \n",
    "* 3.Reinforcement learning---->S/W component learns to react to an environment\n",
    "### Algorithms\n",
    "             Classification                      Regression                                 Clustering \n",
    "             1.Decision trees                    1.Simple linear regression model           1.k-means\n",
    "             2.bayesian networks                 2.Lasso regression                         2.mean-shift\n",
    "             3.Support vector machines           3.Logistic Regression                      3.Gaussian mixture\n",
    "             4.Random forest                     4.multiple regression                      4.EM-Clustering                                  5.neural networks                   5.boosting                                 5.hierarichal clustering\n",
    "#### Linear regression:\n",
    "              * y=f(x)  where x=independent variable,y=dependent variable\n",
    "              * y=b1x+b0  where b1=slope and b0=intercept\n",
    "              * y=b1x+b0+error\n",
    "              * root mean square error formula --->slope(b1)=sum(x-(mean of x))(y-(mean of y))/sum(x-mean of x)^2\n",
    "              * R-Squared value=sum(y predicted -mean of y)^2/sum(y-mean of y)^2\n",
    "              * mean square error(cost function)--->MSE(X,h(theta))=1/m summation(theta(transpose).x(i)-y(i))^2\n",
    "              \n",
    "              \n",
    "              \n",
    "                "
   ]
  },
  {
   "cell_type": "code",
   "execution_count": 1,
   "metadata": {},
   "outputs": [],
   "source": [
    "import pandas as pd\n",
    "import numpy as np\n",
    "import matplotlib.pyplot as plt"
   ]
  },
  {
   "cell_type": "code",
   "execution_count": 2,
   "metadata": {},
   "outputs": [
    {
     "data": {
      "text/html": [
       "<div>\n",
       "<style scoped>\n",
       "    .dataframe tbody tr th:only-of-type {\n",
       "        vertical-align: middle;\n",
       "    }\n",
       "\n",
       "    .dataframe tbody tr th {\n",
       "        vertical-align: top;\n",
       "    }\n",
       "\n",
       "    .dataframe thead th {\n",
       "        text-align: right;\n",
       "    }\n",
       "</style>\n",
       "<table border=\"1\" class=\"dataframe\">\n",
       "  <thead>\n",
       "    <tr style=\"text-align: right;\">\n",
       "      <th></th>\n",
       "      <th>Unnamed: 0</th>\n",
       "      <th>TV</th>\n",
       "      <th>radio</th>\n",
       "      <th>newspaper</th>\n",
       "      <th>sales</th>\n",
       "    </tr>\n",
       "  </thead>\n",
       "  <tbody>\n",
       "    <tr>\n",
       "      <th>195</th>\n",
       "      <td>196</td>\n",
       "      <td>38.2</td>\n",
       "      <td>3.7</td>\n",
       "      <td>13.8</td>\n",
       "      <td>7.6</td>\n",
       "    </tr>\n",
       "    <tr>\n",
       "      <th>196</th>\n",
       "      <td>197</td>\n",
       "      <td>94.2</td>\n",
       "      <td>4.9</td>\n",
       "      <td>8.1</td>\n",
       "      <td>9.7</td>\n",
       "    </tr>\n",
       "    <tr>\n",
       "      <th>197</th>\n",
       "      <td>198</td>\n",
       "      <td>177.0</td>\n",
       "      <td>9.3</td>\n",
       "      <td>6.4</td>\n",
       "      <td>12.8</td>\n",
       "    </tr>\n",
       "    <tr>\n",
       "      <th>198</th>\n",
       "      <td>199</td>\n",
       "      <td>283.6</td>\n",
       "      <td>42.0</td>\n",
       "      <td>66.2</td>\n",
       "      <td>25.5</td>\n",
       "    </tr>\n",
       "    <tr>\n",
       "      <th>199</th>\n",
       "      <td>200</td>\n",
       "      <td>232.1</td>\n",
       "      <td>8.6</td>\n",
       "      <td>8.7</td>\n",
       "      <td>13.4</td>\n",
       "    </tr>\n",
       "  </tbody>\n",
       "</table>\n",
       "</div>"
      ],
      "text/plain": [
       "     Unnamed: 0     TV  radio  newspaper  sales\n",
       "195         196   38.2    3.7       13.8    7.6\n",
       "196         197   94.2    4.9        8.1    9.7\n",
       "197         198  177.0    9.3        6.4   12.8\n",
       "198         199  283.6   42.0       66.2   25.5\n",
       "199         200  232.1    8.6        8.7   13.4"
      ]
     },
     "execution_count": 2,
     "metadata": {},
     "output_type": "execute_result"
    }
   ],
   "source": [
    "## reading the data\n",
    "data=pd.read_csv(\"advertisement.csv\")\n",
    "data.tail()"
   ]
  },
  {
   "cell_type": "code",
   "execution_count": 3,
   "metadata": {},
   "outputs": [
    {
     "data": {
      "text/html": [
       "<div>\n",
       "<style scoped>\n",
       "    .dataframe tbody tr th:only-of-type {\n",
       "        vertical-align: middle;\n",
       "    }\n",
       "\n",
       "    .dataframe tbody tr th {\n",
       "        vertical-align: top;\n",
       "    }\n",
       "\n",
       "    .dataframe thead th {\n",
       "        text-align: right;\n",
       "    }\n",
       "</style>\n",
       "<table border=\"1\" class=\"dataframe\">\n",
       "  <thead>\n",
       "    <tr style=\"text-align: right;\">\n",
       "      <th></th>\n",
       "      <th>TV</th>\n",
       "      <th>radio</th>\n",
       "      <th>newspaper</th>\n",
       "      <th>sales</th>\n",
       "    </tr>\n",
       "  </thead>\n",
       "  <tbody>\n",
       "    <tr>\n",
       "      <th>195</th>\n",
       "      <td>38.2</td>\n",
       "      <td>3.7</td>\n",
       "      <td>13.8</td>\n",
       "      <td>7.6</td>\n",
       "    </tr>\n",
       "    <tr>\n",
       "      <th>196</th>\n",
       "      <td>94.2</td>\n",
       "      <td>4.9</td>\n",
       "      <td>8.1</td>\n",
       "      <td>9.7</td>\n",
       "    </tr>\n",
       "    <tr>\n",
       "      <th>197</th>\n",
       "      <td>177.0</td>\n",
       "      <td>9.3</td>\n",
       "      <td>6.4</td>\n",
       "      <td>12.8</td>\n",
       "    </tr>\n",
       "    <tr>\n",
       "      <th>198</th>\n",
       "      <td>283.6</td>\n",
       "      <td>42.0</td>\n",
       "      <td>66.2</td>\n",
       "      <td>25.5</td>\n",
       "    </tr>\n",
       "    <tr>\n",
       "      <th>199</th>\n",
       "      <td>232.1</td>\n",
       "      <td>8.6</td>\n",
       "      <td>8.7</td>\n",
       "      <td>13.4</td>\n",
       "    </tr>\n",
       "  </tbody>\n",
       "</table>\n",
       "</div>"
      ],
      "text/plain": [
       "        TV  radio  newspaper  sales\n",
       "195   38.2    3.7       13.8    7.6\n",
       "196   94.2    4.9        8.1    9.7\n",
       "197  177.0    9.3        6.4   12.8\n",
       "198  283.6   42.0       66.2   25.5\n",
       "199  232.1    8.6        8.7   13.4"
      ]
     },
     "execution_count": 3,
     "metadata": {},
     "output_type": "execute_result"
    }
   ],
   "source": [
    "data.drop(\"Unnamed: 0\",axis=1,inplace=True)\n",
    "data.tail()"
   ]
  },
  {
   "cell_type": "code",
   "execution_count": 4,
   "metadata": {},
   "outputs": [
    {
     "name": "stdout",
     "output_type": "stream",
     "text": [
      "(200,)\n"
     ]
    },
    {
     "data": {
      "text/plain": [
       "array([230.1,  44.5,  17.2, 151.5, 180.8,   8.7,  57.5, 120.2,   8.6,\n",
       "       199.8,  66.1, 214.7,  23.8,  97.5, 204.1, 195.4,  67.8, 281.4,\n",
       "        69.2, 147.3, 218.4, 237.4,  13.2, 228.3,  62.3, 262.9, 142.9,\n",
       "       240.1, 248.8,  70.6, 292.9, 112.9,  97.2, 265.6,  95.7, 290.7,\n",
       "       266.9,  74.7,  43.1, 228. , 202.5, 177. , 293.6, 206.9,  25.1,\n",
       "       175.1,  89.7, 239.9, 227.2,  66.9, 199.8, 100.4, 216.4, 182.6,\n",
       "       262.7, 198.9,   7.3, 136.2, 210.8, 210.7,  53.5, 261.3, 239.3,\n",
       "       102.7, 131.1,  69. ,  31.5, 139.3, 237.4, 216.8, 199.1, 109.8,\n",
       "        26.8, 129.4, 213.4,  16.9,  27.5, 120.5,   5.4, 116. ,  76.4,\n",
       "       239.8,  75.3,  68.4, 213.5, 193.2,  76.3, 110.7,  88.3, 109.8,\n",
       "       134.3,  28.6, 217.7, 250.9, 107.4, 163.3, 197.6, 184.9, 289.7,\n",
       "       135.2, 222.4, 296.4, 280.2, 187.9, 238.2, 137.9,  25. ,  90.4,\n",
       "        13.1, 255.4, 225.8, 241.7, 175.7, 209.6,  78.2,  75.1, 139.2,\n",
       "        76.4, 125.7,  19.4, 141.3,  18.8, 224. , 123.1, 229.5,  87.2,\n",
       "         7.8,  80.2, 220.3,  59.6,   0.7, 265.2,   8.4, 219.8,  36.9,\n",
       "        48.3,  25.6, 273.7,  43. , 184.9,  73.4, 193.7, 220.5, 104.6,\n",
       "        96.2, 140.3, 240.1, 243.2,  38. ,  44.7, 280.7, 121. , 197.6,\n",
       "       171.3, 187.8,   4.1,  93.9, 149.8,  11.7, 131.7, 172.5,  85.7,\n",
       "       188.4, 163.5, 117.2, 234.5,  17.9, 206.8, 215.4, 284.3,  50. ,\n",
       "       164.5,  19.6, 168.4, 222.4, 276.9, 248.4, 170.2, 276.7, 165.6,\n",
       "       156.6, 218.5,  56.2, 287.6, 253.8, 205. , 139.5, 191.1, 286. ,\n",
       "        18.7,  39.5,  75.5,  17.2, 166.8, 149.7,  38.2,  94.2, 177. ,\n",
       "       283.6, 232.1])"
      ]
     },
     "execution_count": 4,
     "metadata": {},
     "output_type": "execute_result"
    }
   ],
   "source": [
    "x=data[\"TV\"].values\n",
    "print(x.shape)\n",
    "x"
   ]
  },
  {
   "cell_type": "code",
   "execution_count": 5,
   "metadata": {},
   "outputs": [
    {
     "name": "stdout",
     "output_type": "stream",
     "text": [
      "(200,)\n"
     ]
    }
   ],
   "source": [
    "y=data[\"sales\"].values\n",
    "print(y.shape)\n"
   ]
  },
  {
   "cell_type": "code",
   "execution_count": 6,
   "metadata": {},
   "outputs": [
    {
     "data": {
      "text/plain": [
       "147.0425"
      ]
     },
     "execution_count": 6,
     "metadata": {},
     "output_type": "execute_result"
    }
   ],
   "source": [
    "x_m=x.mean() \n",
    "x_m                                   #finding mean"
   ]
  },
  {
   "cell_type": "code",
   "execution_count": 7,
   "metadata": {},
   "outputs": [
    {
     "data": {
      "text/plain": [
       "14.0225"
      ]
     },
     "execution_count": 7,
     "metadata": {},
     "output_type": "execute_result"
    }
   ],
   "source": [
    "y_m=y.mean()\n",
    "y_m"
   ]
  },
  {
   "cell_type": "code",
   "execution_count": 8,
   "metadata": {},
   "outputs": [
    {
     "name": "stdout",
     "output_type": "stream",
     "text": [
      "slope: 0.04753664043301969\n",
      "intercept: 7.032593549127704\n"
     ]
    }
   ],
   "source": [
    "# calculating error\n",
    "n=len(x)                                      #y=b1x+b0 b1=slope,b0=intercept\n",
    "nume=0\n",
    "denom=0\n",
    "for i in range(n):\n",
    "    nume+=(x[i]-x_m)*(y[i]-y_m)\n",
    "    denom+=(x[i]-x_m)**2\n",
    "b1=nume/denom\n",
    "b0=y_m-(b1*x_m)\n",
    "print(\"slope:\",b1)\n",
    "print(\"intercept:\",b0)"
   ]
  },
  {
   "cell_type": "code",
   "execution_count": 9,
   "metadata": {},
   "outputs": [
    {
     "name": "stdout",
     "output_type": "stream",
     "text": [
      "linear equation :y=0.047537x+7.033\n"
     ]
    }
   ],
   "source": [
    "# y=mx+c\n",
    "print(\"linear equation :y={:.5}x+{:.4}\".format(b1,b0))"
   ]
  },
  {
   "cell_type": "code",
   "execution_count": 10,
   "metadata": {},
   "outputs": [
    {
     "data": {
      "text/plain": [
       "array([17.97077451,  9.14797405,  7.85022376, 14.23439457, 15.62721814,\n",
       "        7.44616232,  9.76595037, 12.74649773,  7.44140866, 16.53041431,\n",
       "       10.17476548, 17.23871025,  8.16396559, 11.66741599, 16.73482186,\n",
       "       16.32125309, 10.25557777, 20.40940417, 10.32212907, 14.03474068,\n",
       "       17.41459582, 18.31779199,  7.6600772 , 17.88520856,  9.99412625,\n",
       "       19.52997632, 13.82557947, 18.44614092, 18.85970969, 10.38868036,\n",
       "       20.95607553, 12.39948025, 11.653155  , 19.65832525, 11.58185004,\n",
       "       20.85149492, 19.72012288, 10.58358059,  9.08142275, 17.87094757,\n",
       "       16.65876324, 15.44657891, 20.98935118, 16.86792445,  8.22576322,\n",
       "       15.35625929, 11.2966302 , 18.43663359, 17.83291826, 10.21279479,\n",
       "       16.53041431, 11.80527225, 17.31952254, 15.71278409, 19.52046899,\n",
       "       16.48763133,  7.37961102, 13.50708398, 17.05331735, 17.04856369,\n",
       "        9.57580381, 19.45391769, 18.4081116 , 11.91460652, 13.26464711,\n",
       "       10.31262174,  8.52999772, 13.65444756, 18.31779199, 17.3385372 ,\n",
       "       16.49713866, 12.25211667,  8.30657551, 13.18383482, 17.17691262,\n",
       "        7.83596277,  8.33985116, 12.76075872,  7.28929141, 12.54684384,\n",
       "       10.66439288, 18.43187992, 10.61210257, 10.28409975, 17.18166628,\n",
       "       16.21667248, 10.65963921, 12.29489965, 11.2300789 , 12.25211667,\n",
       "       13.41676436,  8.39214147, 17.38132017, 18.95953663, 12.13802873,\n",
       "       14.79532693, 16.4258337 , 15.82211837, 20.80395828, 13.45954734,\n",
       "       17.60474238, 21.12245377, 20.3523602 , 15.96472829, 18.3558213 ,\n",
       "       13.58789626,  8.22100956, 11.32990584,  7.65532354, 19.17345152,\n",
       "       17.76636696, 18.52219954, 15.38478127, 16.99627338, 10.74995883,\n",
       "       10.60259525, 13.6496939 , 10.66439288, 13.00794925,  7.95480437,\n",
       "       13.74952084,  7.92628239, 17.68080101, 12.88435399, 17.94225253,\n",
       "       11.17778859,  7.40337934, 10.84503211, 17.50491544,  9.86577732,\n",
       "        7.0658692 , 19.63931059,  7.43190133, 17.48114712,  8.78669558,\n",
       "        9.32861328,  8.24953154, 20.04337204,  9.07666909, 15.82211837,\n",
       "       10.52178296, 16.2404408 , 17.51442276, 12.00492614, 11.60561836,\n",
       "       13.7019842 , 18.44614092, 18.5935045 ,  8.83898589,  9.15748138,\n",
       "       20.37612852, 12.78452704, 16.4258337 , 15.17562006, 15.95997462,\n",
       "        7.22749377, 11.49628409, 14.15358229,  7.58877224, 13.29316909,\n",
       "       15.23266402, 11.10648363, 15.98849661, 14.80483426, 12.60388781,\n",
       "       18.17993573,  7.88349941, 16.86317079, 17.2719859 , 20.54726042,\n",
       "        9.40942557, 14.8523709 ,  7.9643117 , 15.0377638 , 17.60474238,\n",
       "       20.19548929, 18.84069503, 15.12332975, 20.18598196, 14.9046612 ,\n",
       "       14.47683144, 17.41934948,  9.70415274, 20.70413134, 19.09739289,\n",
       "       16.77760484, 13.66395489, 16.11684554, 20.62807271,  7.92152873,\n",
       "        8.91029085, 10.6216099 ,  7.85022376, 14.96170517, 14.14882862,\n",
       "        8.84849321, 11.51054508, 15.44657891, 20.51398478, 18.06584779])"
      ]
     },
     "execution_count": 10,
     "metadata": {},
     "output_type": "execute_result"
    }
   ],
   "source": [
    "y_p=b1*x+b0                                  # Y-predictions\n",
    "y_p"
   ]
  },
  {
   "cell_type": "code",
   "execution_count": 11,
   "metadata": {},
   "outputs": [
    {
     "data": {
      "text/plain": [
       "array([17.97077451,  9.14797405,  7.85022376, 14.23439457, 15.62721814,\n",
       "        7.44616232,  9.76595037, 12.74649773,  7.44140866, 16.53041431,\n",
       "       10.17476548, 17.23871025,  8.16396559, 11.66741599, 16.73482186,\n",
       "       16.32125309, 10.25557777, 20.40940417, 10.32212907, 14.03474068,\n",
       "       17.41459582, 18.31779199,  7.6600772 , 17.88520856,  9.99412625,\n",
       "       19.52997632, 13.82557947, 18.44614092, 18.85970969, 10.38868036,\n",
       "       20.95607553, 12.39948025, 11.653155  , 19.65832525, 11.58185004,\n",
       "       20.85149492, 19.72012288, 10.58358059,  9.08142275, 17.87094757,\n",
       "       16.65876324, 15.44657891, 20.98935118, 16.86792445,  8.22576322,\n",
       "       15.35625929, 11.2966302 , 18.43663359, 17.83291826, 10.21279479,\n",
       "       16.53041431, 11.80527225, 17.31952254, 15.71278409, 19.52046899,\n",
       "       16.48763133,  7.37961102, 13.50708398, 17.05331735, 17.04856369,\n",
       "        9.57580381, 19.45391769, 18.4081116 , 11.91460652, 13.26464711,\n",
       "       10.31262174,  8.52999772, 13.65444756, 18.31779199, 17.3385372 ,\n",
       "       16.49713866, 12.25211667,  8.30657551, 13.18383482, 17.17691262,\n",
       "        7.83596277,  8.33985116, 12.76075872,  7.28929141, 12.54684384,\n",
       "       10.66439288, 18.43187992, 10.61210257, 10.28409975, 17.18166628,\n",
       "       16.21667248, 10.65963921, 12.29489965, 11.2300789 , 12.25211667,\n",
       "       13.41676436,  8.39214147, 17.38132017, 18.95953663, 12.13802873,\n",
       "       14.79532693, 16.4258337 , 15.82211837, 20.80395828, 13.45954734,\n",
       "       17.60474238, 21.12245377, 20.3523602 , 15.96472829, 18.3558213 ,\n",
       "       13.58789626,  8.22100956, 11.32990584,  7.65532354, 19.17345152,\n",
       "       17.76636696, 18.52219954, 15.38478127, 16.99627338, 10.74995883,\n",
       "       10.60259525, 13.6496939 , 10.66439288, 13.00794925,  7.95480437,\n",
       "       13.74952084,  7.92628239, 17.68080101, 12.88435399, 17.94225253,\n",
       "       11.17778859,  7.40337934, 10.84503211, 17.50491544,  9.86577732,\n",
       "        7.0658692 , 19.63931059,  7.43190133, 17.48114712,  8.78669558,\n",
       "        9.32861328,  8.24953154, 20.04337204,  9.07666909, 15.82211837,\n",
       "       10.52178296, 16.2404408 , 17.51442276, 12.00492614, 11.60561836,\n",
       "       13.7019842 , 18.44614092, 18.5935045 ,  8.83898589,  9.15748138,\n",
       "       20.37612852, 12.78452704, 16.4258337 , 15.17562006, 15.95997462,\n",
       "        7.22749377, 11.49628409, 14.15358229,  7.58877224, 13.29316909,\n",
       "       15.23266402, 11.10648363, 15.98849661, 14.80483426, 12.60388781,\n",
       "       18.17993573,  7.88349941, 16.86317079, 17.2719859 , 20.54726042,\n",
       "        9.40942557, 14.8523709 ,  7.9643117 , 15.0377638 , 17.60474238,\n",
       "       20.19548929, 18.84069503, 15.12332975, 20.18598196, 14.9046612 ,\n",
       "       14.47683144, 17.41934948,  9.70415274, 20.70413134, 19.09739289,\n",
       "       16.77760484, 13.66395489, 16.11684554, 20.62807271,  7.92152873,\n",
       "        8.91029085, 10.6216099 ,  7.85022376, 14.96170517, 14.14882862,\n",
       "        8.84849321, 11.51054508, 15.44657891, 20.51398478, 18.06584779])"
      ]
     },
     "execution_count": 11,
     "metadata": {},
     "output_type": "execute_result"
    }
   ],
   "source": [
    "y_p=b1*x+b0                                  # Y-predictions\n",
    "y_p"
   ]
  },
  {
   "cell_type": "code",
   "execution_count": 12,
   "metadata": {},
   "outputs": [
    {
     "name": "stdout",
     "output_type": "stream",
     "text": [
      "re score: 0.3881249491499301\n"
     ]
    }
   ],
   "source": [
    "# R-Squared error\n",
    "n1=0\n",
    "d1=0\n",
    "for i in range(n):\n",
    "    n1+=(y_p[i]-y_m)**2\n",
    "    d1+=(y[i]-y_m)**2\n",
    "r2=1-n1/d1\n",
    "print(\"re score:\",r2)"
   ]
  },
  {
   "cell_type": "code",
   "execution_count": 13,
   "metadata": {},
   "outputs": [
    {
     "data": {
      "text/plain": [
       "<matplotlib.collections.PathCollection at 0x8ec8da0>"
      ]
     },
     "execution_count": 13,
     "metadata": {},
     "output_type": "execute_result"
    },
    {
     "data": {
      "image/png": "[encoded data removed]",
      "text/plain": [
       "<Figure size 432x288 with 1 Axes>"
      ]
     },
     "metadata": {
      "needs_background": "light"
     },
     "output_type": "display_data"
    }
   ],
   "source": [
    "plt.scatter(x,y_p,color=\"g\")"
   ]
  },
  {
   "cell_type": "code",
   "execution_count": 14,
   "metadata": {},
   "outputs": [
    {
     "data": {
      "text/plain": [
       "<matplotlib.legend.Legend at 0x8f5d278>"
      ]
     },
     "execution_count": 14,
     "metadata": {},
     "output_type": "execute_result"
    },
    {
     "data": {
      "image/png": "[encoded data removed]",
      "text/plain": [
       "<Figure size 432x288 with 1 Axes>"
      ]
     },
     "metadata": {
      "needs_background": "light"
     },
     "output_type": "display_data"
    }
   ],
   "source": [
    "plt.scatter(x,y_p,label=\"linear wave\",color=\"b\")\n",
    "plt.xlabel(\"x\")\n",
    "plt.ylabel(\"y_predicted value\")\n",
    "plt.title(\"linear regression vth model including\")\n",
    "plt.legend()"
   ]
  },
  {
   "cell_type": "code",
   "execution_count": 15,
   "metadata": {},
   "outputs": [],
   "source": [
    "#sklearn\n",
    "from sklearn.linear_model import LinearRegression"
   ]
  },
  {
   "cell_type": "code",
   "execution_count": 16,
   "metadata": {},
   "outputs": [
    {
     "data": {
      "text/plain": [
       "array([[22.1],\n",
       "       [10.4],\n",
       "       [ 9.3],\n",
       "       [18.5],\n",
       "       [12.9],\n",
       "       [ 7.2],\n",
       "       [11.8],\n",
       "       [13.2],\n",
       "       [ 4.8],\n",
       "       [10.6],\n",
       "       [ 8.6],\n",
       "       [17.4],\n",
       "       [ 9.2],\n",
       "       [ 9.7],\n",
       "       [19. ],\n",
       "       [22.4],\n",
       "       [12.5],\n",
       "       [24.4],\n",
       "       [11.3],\n",
       "       [14.6],\n",
       "       [18. ],\n",
       "       [12.5],\n",
       "       [ 5.6],\n",
       "       [15.5],\n",
       "       [ 9.7],\n",
       "       [12. ],\n",
       "       [15. ],\n",
       "       [15.9],\n",
       "       [18.9],\n",
       "       [10.5],\n",
       "       [21.4],\n",
       "       [11.9],\n",
       "       [ 9.6],\n",
       "       [17.4],\n",
       "       [ 9.5],\n",
       "       [12.8],\n",
       "       [25.4],\n",
       "       [14.7],\n",
       "       [10.1],\n",
       "       [21.5],\n",
       "       [16.6],\n",
       "       [17.1],\n",
       "       [20.7],\n",
       "       [12.9],\n",
       "       [ 8.5],\n",
       "       [14.9],\n",
       "       [10.6],\n",
       "       [23.2],\n",
       "       [14.8],\n",
       "       [ 9.7],\n",
       "       [11.4],\n",
       "       [10.7],\n",
       "       [22.6],\n",
       "       [21.2],\n",
       "       [20.2],\n",
       "       [23.7],\n",
       "       [ 5.5],\n",
       "       [13.2],\n",
       "       [23.8],\n",
       "       [18.4],\n",
       "       [ 8.1],\n",
       "       [24.2],\n",
       "       [15.7],\n",
       "       [14. ],\n",
       "       [18. ],\n",
       "       [ 9.3],\n",
       "       [ 9.5],\n",
       "       [13.4],\n",
       "       [18.9],\n",
       "       [22.3],\n",
       "       [18.3],\n",
       "       [12.4],\n",
       "       [ 8.8],\n",
       "       [11. ],\n",
       "       [17. ],\n",
       "       [ 8.7],\n",
       "       [ 6.9],\n",
       "       [14.2],\n",
       "       [ 5.3],\n",
       "       [11. ],\n",
       "       [11.8],\n",
       "       [12.3],\n",
       "       [11.3],\n",
       "       [13.6],\n",
       "       [21.7],\n",
       "       [15.2],\n",
       "       [12. ],\n",
       "       [16. ],\n",
       "       [12.9],\n",
       "       [16.7],\n",
       "       [11.2],\n",
       "       [ 7.3],\n",
       "       [19.4],\n",
       "       [22.2],\n",
       "       [11.5],\n",
       "       [16.9],\n",
       "       [11.7],\n",
       "       [15.5],\n",
       "       [25.4],\n",
       "       [17.2],\n",
       "       [11.7],\n",
       "       [23.8],\n",
       "       [14.8],\n",
       "       [14.7],\n",
       "       [20.7],\n",
       "       [19.2],\n",
       "       [ 7.2],\n",
       "       [ 8.7],\n",
       "       [ 5.3],\n",
       "       [19.8],\n",
       "       [13.4],\n",
       "       [21.8],\n",
       "       [14.1],\n",
       "       [15.9],\n",
       "       [14.6],\n",
       "       [12.6],\n",
       "       [12.2],\n",
       "       [ 9.4],\n",
       "       [15.9],\n",
       "       [ 6.6],\n",
       "       [15.5],\n",
       "       [ 7. ],\n",
       "       [11.6],\n",
       "       [15.2],\n",
       "       [19.7],\n",
       "       [10.6],\n",
       "       [ 6.6],\n",
       "       [ 8.8],\n",
       "       [24.7],\n",
       "       [ 9.7],\n",
       "       [ 1.6],\n",
       "       [12.7],\n",
       "       [ 5.7],\n",
       "       [19.6],\n",
       "       [10.8],\n",
       "       [11.6],\n",
       "       [ 9.5],\n",
       "       [20.8],\n",
       "       [ 9.6],\n",
       "       [20.7],\n",
       "       [10.9],\n",
       "       [19.2],\n",
       "       [20.1],\n",
       "       [10.4],\n",
       "       [11.4],\n",
       "       [10.3],\n",
       "       [13.2],\n",
       "       [25.4],\n",
       "       [10.9],\n",
       "       [10.1],\n",
       "       [16.1],\n",
       "       [11.6],\n",
       "       [16.6],\n",
       "       [19. ],\n",
       "       [15.6],\n",
       "       [ 3.2],\n",
       "       [15.3],\n",
       "       [10.1],\n",
       "       [ 7.3],\n",
       "       [12.9],\n",
       "       [14.4],\n",
       "       [13.3],\n",
       "       [14.9],\n",
       "       [18. ],\n",
       "       [11.9],\n",
       "       [11.9],\n",
       "       [ 8. ],\n",
       "       [12.2],\n",
       "       [17.1],\n",
       "       [15. ],\n",
       "       [ 8.4],\n",
       "       [14.5],\n",
       "       [ 7.6],\n",
       "       [11.7],\n",
       "       [11.5],\n",
       "       [27. ],\n",
       "       [20.2],\n",
       "       [11.7],\n",
       "       [11.8],\n",
       "       [12.6],\n",
       "       [10.5],\n",
       "       [12.2],\n",
       "       [ 8.7],\n",
       "       [26.2],\n",
       "       [17.6],\n",
       "       [22.6],\n",
       "       [10.3],\n",
       "       [17.3],\n",
       "       [15.9],\n",
       "       [ 6.7],\n",
       "       [10.8],\n",
       "       [ 9.9],\n",
       "       [ 5.9],\n",
       "       [19.6],\n",
       "       [17.3],\n",
       "       [ 7.6],\n",
       "       [ 9.7],\n",
       "       [12.8],\n",
       "       [25.5],\n",
       "       [13.4]])"
      ]
     },
     "execution_count": 16,
     "metadata": {},
     "output_type": "execute_result"
    }
   ],
   "source": [
    "r=data[\"sales\"].values.reshape(-1,1)\n",
    "r"
   ]
  },
  {
   "cell_type": "code",
   "execution_count": 17,
   "metadata": {},
   "outputs": [
    {
     "data": {
      "text/plain": [
       "array([[230.1],\n",
       "       [ 44.5],\n",
       "       [ 17.2],\n",
       "       [151.5],\n",
       "       [180.8],\n",
       "       [  8.7],\n",
       "       [ 57.5],\n",
       "       [120.2],\n",
       "       [  8.6],\n",
       "       [199.8],\n",
       "       [ 66.1],\n",
       "       [214.7],\n",
       "       [ 23.8],\n",
       "       [ 97.5],\n",
       "       [204.1],\n",
       "       [195.4],\n",
       "       [ 67.8],\n",
       "       [281.4],\n",
       "       [ 69.2],\n",
       "       [147.3],\n",
       "       [218.4],\n",
       "       [237.4],\n",
       "       [ 13.2],\n",
       "       [228.3],\n",
       "       [ 62.3],\n",
       "       [262.9],\n",
       "       [142.9],\n",
       "       [240.1],\n",
       "       [248.8],\n",
       "       [ 70.6],\n",
       "       [292.9],\n",
       "       [112.9],\n",
       "       [ 97.2],\n",
       "       [265.6],\n",
       "       [ 95.7],\n",
       "       [290.7],\n",
       "       [266.9],\n",
       "       [ 74.7],\n",
       "       [ 43.1],\n",
       "       [228. ],\n",
       "       [202.5],\n",
       "       [177. ],\n",
       "       [293.6],\n",
       "       [206.9],\n",
       "       [ 25.1],\n",
       "       [175.1],\n",
       "       [ 89.7],\n",
       "       [239.9],\n",
       "       [227.2],\n",
       "       [ 66.9],\n",
       "       [199.8],\n",
       "       [100.4],\n",
       "       [216.4],\n",
       "       [182.6],\n",
       "       [262.7],\n",
       "       [198.9],\n",
       "       [  7.3],\n",
       "       [136.2],\n",
       "       [210.8],\n",
       "       [210.7],\n",
       "       [ 53.5],\n",
       "       [261.3],\n",
       "       [239.3],\n",
       "       [102.7],\n",
       "       [131.1],\n",
       "       [ 69. ],\n",
       "       [ 31.5],\n",
       "       [139.3],\n",
       "       [237.4],\n",
       "       [216.8],\n",
       "       [199.1],\n",
       "       [109.8],\n",
       "       [ 26.8],\n",
       "       [129.4],\n",
       "       [213.4],\n",
       "       [ 16.9],\n",
       "       [ 27.5],\n",
       "       [120.5],\n",
       "       [  5.4],\n",
       "       [116. ],\n",
       "       [ 76.4],\n",
       "       [239.8],\n",
       "       [ 75.3],\n",
       "       [ 68.4],\n",
       "       [213.5],\n",
       "       [193.2],\n",
       "       [ 76.3],\n",
       "       [110.7],\n",
       "       [ 88.3],\n",
       "       [109.8],\n",
       "       [134.3],\n",
       "       [ 28.6],\n",
       "       [217.7],\n",
       "       [250.9],\n",
       "       [107.4],\n",
       "       [163.3],\n",
       "       [197.6],\n",
       "       [184.9],\n",
       "       [289.7],\n",
       "       [135.2],\n",
       "       [222.4],\n",
       "       [296.4],\n",
       "       [280.2],\n",
       "       [187.9],\n",
       "       [238.2],\n",
       "       [137.9],\n",
       "       [ 25. ],\n",
       "       [ 90.4],\n",
       "       [ 13.1],\n",
       "       [255.4],\n",
       "       [225.8],\n",
       "       [241.7],\n",
       "       [175.7],\n",
       "       [209.6],\n",
       "       [ 78.2],\n",
       "       [ 75.1],\n",
       "       [139.2],\n",
       "       [ 76.4],\n",
       "       [125.7],\n",
       "       [ 19.4],\n",
       "       [141.3],\n",
       "       [ 18.8],\n",
       "       [224. ],\n",
       "       [123.1],\n",
       "       [229.5],\n",
       "       [ 87.2],\n",
       "       [  7.8],\n",
       "       [ 80.2],\n",
       "       [220.3],\n",
       "       [ 59.6],\n",
       "       [  0.7],\n",
       "       [265.2],\n",
       "       [  8.4],\n",
       "       [219.8],\n",
       "       [ 36.9],\n",
       "       [ 48.3],\n",
       "       [ 25.6],\n",
       "       [273.7],\n",
       "       [ 43. ],\n",
       "       [184.9],\n",
       "       [ 73.4],\n",
       "       [193.7],\n",
       "       [220.5],\n",
       "       [104.6],\n",
       "       [ 96.2],\n",
       "       [140.3],\n",
       "       [240.1],\n",
       "       [243.2],\n",
       "       [ 38. ],\n",
       "       [ 44.7],\n",
       "       [280.7],\n",
       "       [121. ],\n",
       "       [197.6],\n",
       "       [171.3],\n",
       "       [187.8],\n",
       "       [  4.1],\n",
       "       [ 93.9],\n",
       "       [149.8],\n",
       "       [ 11.7],\n",
       "       [131.7],\n",
       "       [172.5],\n",
       "       [ 85.7],\n",
       "       [188.4],\n",
       "       [163.5],\n",
       "       [117.2],\n",
       "       [234.5],\n",
       "       [ 17.9],\n",
       "       [206.8],\n",
       "       [215.4],\n",
       "       [284.3],\n",
       "       [ 50. ],\n",
       "       [164.5],\n",
       "       [ 19.6],\n",
       "       [168.4],\n",
       "       [222.4],\n",
       "       [276.9],\n",
       "       [248.4],\n",
       "       [170.2],\n",
       "       [276.7],\n",
       "       [165.6],\n",
       "       [156.6],\n",
       "       [218.5],\n",
       "       [ 56.2],\n",
       "       [287.6],\n",
       "       [253.8],\n",
       "       [205. ],\n",
       "       [139.5],\n",
       "       [191.1],\n",
       "       [286. ],\n",
       "       [ 18.7],\n",
       "       [ 39.5],\n",
       "       [ 75.5],\n",
       "       [ 17.2],\n",
       "       [166.8],\n",
       "       [149.7],\n",
       "       [ 38.2],\n",
       "       [ 94.2],\n",
       "       [177. ],\n",
       "       [283.6],\n",
       "       [232.1]])"
      ]
     },
     "execution_count": 17,
     "metadata": {},
     "output_type": "execute_result"
    }
   ],
   "source": [
    "x=data[\"TV\"].values.reshape(-1,1)\n",
    "x"
   ]
  },
  {
   "cell_type": "code",
   "execution_count": 18,
   "metadata": {},
   "outputs": [
    {
     "data": {
      "text/plain": [
       "LinearRegression(copy_X=True, fit_intercept=True, n_jobs=None, normalize=False)"
      ]
     },
     "execution_count": 18,
     "metadata": {},
     "output_type": "execute_result"
    }
   ],
   "source": [
    "rg=LinearRegression()\n",
    "rg.fit(x,y)"
   ]
  },
  {
   "cell_type": "code",
   "execution_count": 19,
   "metadata": {},
   "outputs": [
    {
     "data": {
      "text/plain": [
       "array([0.04753664])"
      ]
     },
     "execution_count": 19,
     "metadata": {},
     "output_type": "execute_result"
    }
   ],
   "source": [
    "rg.coef_"
   ]
  },
  {
   "cell_type": "code",
   "execution_count": 20,
   "metadata": {},
   "outputs": [
    {
     "data": {
      "text/plain": [
       "7.032593549127693"
      ]
     },
     "execution_count": 20,
     "metadata": {},
     "output_type": "execute_result"
    }
   ],
   "source": [
    "rg.intercept_"
   ]
  },
  {
   "cell_type": "code",
   "execution_count": 21,
   "metadata": {},
   "outputs": [
    {
     "name": "stdout",
     "output_type": "stream",
     "text": [
      "[17.97077451  9.14797405  7.85022376 14.23439457 15.62721814  7.44616232\n",
      "  9.76595037 12.74649773  7.44140866 16.53041431 10.17476548 17.23871025\n",
      "  8.16396559 11.66741599 16.73482186 16.32125309 10.25557777 20.40940417\n",
      " 10.32212907 14.03474068 17.41459582 18.31779199  7.6600772  17.88520856\n",
      "  9.99412625 19.52997632 13.82557947 18.44614092 18.85970969 10.38868036\n",
      " 20.95607553 12.39948025 11.653155   19.65832525 11.58185004 20.85149492\n",
      " 19.72012288 10.58358059  9.08142275 17.87094757 16.65876324 15.44657891\n",
      " 20.98935118 16.86792445  8.22576322 15.35625929 11.2966302  18.43663359\n",
      " 17.83291826 10.21279479 16.53041431 11.80527225 17.31952254 15.71278409\n",
      " 19.52046899 16.48763133  7.37961102 13.50708398 17.05331735 17.04856369\n",
      "  9.57580381 19.45391769 18.4081116  11.91460652 13.26464711 10.31262174\n",
      "  8.52999772 13.65444756 18.31779199 17.3385372  16.49713866 12.25211667\n",
      "  8.30657551 13.18383482 17.17691262  7.83596277  8.33985116 12.76075872\n",
      "  7.28929141 12.54684384 10.66439288 18.43187992 10.61210257 10.28409975\n",
      " 17.18166628 16.21667248 10.65963921 12.29489965 11.2300789  12.25211667\n",
      " 13.41676436  8.39214147 17.38132017 18.95953663 12.13802873 14.79532693\n",
      " 16.4258337  15.82211837 20.80395828 13.45954734 17.60474238 21.12245377\n",
      " 20.3523602  15.96472829 18.3558213  13.58789626  8.22100956 11.32990584\n",
      "  7.65532354 19.17345152 17.76636696 18.52219954 15.38478127 16.99627338\n",
      " 10.74995883 10.60259525 13.6496939  10.66439288 13.00794925  7.95480437\n",
      " 13.74952084  7.92628239 17.68080101 12.88435399 17.94225253 11.17778859\n",
      "  7.40337934 10.84503211 17.50491544  9.86577732  7.0658692  19.63931059\n",
      "  7.43190133 17.48114712  8.78669558  9.32861328  8.24953154 20.04337204\n",
      "  9.07666909 15.82211837 10.52178296 16.2404408  17.51442276 12.00492614\n",
      " 11.60561836 13.7019842  18.44614092 18.5935045   8.83898589  9.15748138\n",
      " 20.37612852 12.78452704 16.4258337  15.17562006 15.95997462  7.22749377\n",
      " 11.49628409 14.15358229  7.58877224 13.29316909 15.23266402 11.10648363\n",
      " 15.98849661 14.80483426 12.60388781 18.17993573  7.88349941 16.86317079\n",
      " 17.2719859  20.54726042  9.40942557 14.8523709   7.9643117  15.0377638\n",
      " 17.60474238 20.19548929 18.84069503 15.12332975 20.18598196 14.9046612\n",
      " 14.47683144 17.41934948  9.70415274 20.70413134 19.09739289 16.77760484\n",
      " 13.66395489 16.11684554 20.62807271  7.92152873  8.91029085 10.6216099\n",
      "  7.85022376 14.96170517 14.14882862  8.84849321 11.51054508 15.44657891\n",
      " 20.51398478 18.06584779]\n"
     ]
    }
   ],
   "source": [
    "y_predict=rg.predict(x)\n",
    "print(y_predict)\n"
   ]
  },
  {
   "cell_type": "code",
   "execution_count": 22,
   "metadata": {},
   "outputs": [
    {
     "name": "stdout",
     "output_type": "stream",
     "text": [
      "0.611875050850071\n"
     ]
    }
   ],
   "source": [
    "score=rg.score(x,y)\n",
    "print(score)"
   ]
  },
  {
   "cell_type": "code",
   "execution_count": 23,
   "metadata": {},
   "outputs": [
    {
     "data": {
      "text/plain": [
       "array([8.86750787])"
      ]
     },
     "execution_count": 23,
     "metadata": {},
     "output_type": "execute_result"
    }
   ],
   "source": [
    "rg.predict([[38.6]])"
   ]
  },
  {
   "cell_type": "code",
   "execution_count": 24,
   "metadata": {},
   "outputs": [
    {
     "data": {
      "image/png": "[encoded data removed]",
      "text/plain": [
       "<Figure size 432x288 with 1 Axes>"
      ]
     },
     "metadata": {
      "needs_background": "light"
     },
     "output_type": "display_data"
    }
   ],
   "source": [
    "import matplotlib.pyplot as plt\n",
    "plt.scatter(x,y,c='m',label=\"before prediction\")\n",
    "plt.plot(x,y_p,c='r',label=\"LinearRegression\")\n",
    "plt.xlabel(\"x\")\n",
    "plt.ylabel(\"y\")\n",
    "plt.title(\"LinearRegression model\")\n",
    "plt.legend(loc=\"best\")\n",
    "plt.show()"
   ]
  },
  {
   "cell_type": "code",
   "execution_count": 25,
   "metadata": {},
   "outputs": [],
   "source": [
    "## polynomial-->multiple degree ax2+bx+c\n",
    "from sklearn.preprocessing import PolynomialFeatures"
   ]
  },
  {
   "cell_type": "code",
   "execution_count": 26,
   "metadata": {},
   "outputs": [
    {
     "name": "stdout",
     "output_type": "stream",
     "text": [
      "(100, 1)\n"
     ]
    }
   ],
   "source": [
    "x1=np.random.rand(100,1)\n",
    "y1=0.5*x1+x1**2+np.random.rand(100,1)\n",
    "print(x1.shape)"
   ]
  },
  {
   "cell_type": "code",
   "execution_count": 27,
   "metadata": {},
   "outputs": [
    {
     "name": "stdout",
     "output_type": "stream",
     "text": [
      "(100, 1)\n"
     ]
    }
   ],
   "source": [
    "print(y1.shape)"
   ]
  },
  {
   "cell_type": "code",
   "execution_count": 28,
   "metadata": {},
   "outputs": [
    {
     "data": {
      "text/plain": [
       "array([0.59793795])"
      ]
     },
     "execution_count": 28,
     "metadata": {},
     "output_type": "execute_result"
    }
   ],
   "source": [
    "x1[0]"
   ]
  },
  {
   "cell_type": "code",
   "execution_count": 29,
   "metadata": {},
   "outputs": [
    {
     "name": "stdout",
     "output_type": "stream",
     "text": [
      "[[1.17667471]\n",
      " [0.99967243]\n",
      " [0.10166326]\n",
      " [1.35208117]\n",
      " [1.13961172]\n",
      " [0.37062256]\n",
      " [0.2406696 ]\n",
      " [1.29938985]\n",
      " [0.7313699 ]\n",
      " [0.80964575]\n",
      " [0.67726334]\n",
      " [1.43028078]\n",
      " [1.67858005]\n",
      " [0.11802762]\n",
      " [0.60293748]\n",
      " [0.69801976]\n",
      " [0.34509408]\n",
      " [0.97982531]\n",
      " [1.04599364]\n",
      " [0.35033111]\n",
      " [1.05122778]\n",
      " [0.92049528]\n",
      " [0.29967483]\n",
      " [1.15197984]\n",
      " [0.63078698]\n",
      " [1.40425774]\n",
      " [2.24851058]\n",
      " [0.95058374]\n",
      " [0.71215674]\n",
      " [1.66057227]\n",
      " [2.07389283]\n",
      " [1.78429897]\n",
      " [2.13896428]\n",
      " [2.04635772]\n",
      " [1.1029973 ]\n",
      " [1.75380674]\n",
      " [0.61952145]\n",
      " [1.02880316]\n",
      " [2.08998392]\n",
      " [1.88070601]\n",
      " [1.24138743]\n",
      " [1.03323493]\n",
      " [0.43166057]\n",
      " [0.80819253]\n",
      " [0.38529455]\n",
      " [0.71368913]\n",
      " [0.47667631]\n",
      " [0.70160982]\n",
      " [1.61452022]\n",
      " [2.06664323]\n",
      " [0.4238372 ]\n",
      " [1.06077848]\n",
      " [0.96506359]\n",
      " [1.51638051]\n",
      " [0.44258305]\n",
      " [0.36997561]\n",
      " [1.12198467]\n",
      " [0.12582796]\n",
      " [0.94586897]\n",
      " [1.11412982]\n",
      " [1.63446635]\n",
      " [0.59013625]\n",
      " [2.16181129]\n",
      " [1.73681392]\n",
      " [0.6264762 ]\n",
      " [1.51998426]\n",
      " [1.69555058]\n",
      " [1.56116471]\n",
      " [1.27709998]\n",
      " [0.85628744]\n",
      " [0.50838153]\n",
      " [1.56759219]\n",
      " [1.19951175]\n",
      " [0.99872943]\n",
      " [1.44025517]\n",
      " [1.77117139]\n",
      " [0.41819933]\n",
      " [1.8769411 ]\n",
      " [0.71501809]\n",
      " [0.90504878]\n",
      " [0.32909144]\n",
      " [2.1699024 ]\n",
      " [1.04495633]\n",
      " [0.54902284]\n",
      " [1.42463253]\n",
      " [0.92292597]\n",
      " [1.3344781 ]\n",
      " [0.71407217]\n",
      " [0.7715349 ]\n",
      " [0.26004747]\n",
      " [1.26281648]\n",
      " [1.408102  ]\n",
      " [0.18990089]\n",
      " [1.52463395]\n",
      " [1.14851168]\n",
      " [1.52928758]\n",
      " [1.76356902]\n",
      " [1.13666989]\n",
      " [1.43735587]\n",
      " [0.54371592]]\n"
     ]
    }
   ],
   "source": [
    "print(y1)"
   ]
  },
  {
   "cell_type": "code",
   "execution_count": 30,
   "metadata": {},
   "outputs": [
    {
     "name": "stdout",
     "output_type": "stream",
     "text": [
      "[[0.59793795]\n",
      " [0.75256002]\n",
      " [0.11538179]\n",
      " [0.71009943]\n",
      " [0.61557469]\n",
      " [0.3023099 ]\n",
      " [0.19670295]\n",
      " [0.38124671]\n",
      " [0.33568346]\n",
      " [0.59826484]\n",
      " [0.17314597]\n",
      " [0.80840815]\n",
      " [0.97512929]\n",
      " [0.06446201]\n",
      " [0.10068373]\n",
      " [0.06458047]\n",
      " [0.31890907]\n",
      " [0.59696127]\n",
      " [0.74858358]\n",
      " [0.37201403]\n",
      " [0.44137209]\n",
      " [0.62252004]\n",
      " [0.17267114]\n",
      " [0.79831498]\n",
      " [0.467284  ]\n",
      " [0.6712764 ]\n",
      " [0.90811344]\n",
      " [0.24343894]\n",
      " [0.61754255]\n",
      " [0.98658982]\n",
      " [0.95582497]\n",
      " [0.91442143]\n",
      " [0.90922948]\n",
      " [0.86761412]\n",
      " [0.17196565]\n",
      " [0.85297925]\n",
      " [0.49301561]\n",
      " [0.48849889]\n",
      " [0.95546293]\n",
      " [0.87734232]\n",
      " [0.77601327]\n",
      " [0.42757004]\n",
      " [0.21248526]\n",
      " [0.21651691]\n",
      " [0.27736453]\n",
      " [0.50331204]\n",
      " [0.47707183]\n",
      " [0.18202649]\n",
      " [0.61845182]\n",
      " [0.88704195]\n",
      " [0.20775623]\n",
      " [0.42194943]\n",
      " [0.22845158]\n",
      " [0.90421147]\n",
      " [0.30320911]\n",
      " [0.05203378]\n",
      " [0.28085621]\n",
      " [0.09844363]\n",
      " [0.33371746]\n",
      " [0.56576244]\n",
      " [0.59604259]\n",
      " [0.37263959]\n",
      " [0.92593956]\n",
      " [0.78965392]\n",
      " [0.02621449]\n",
      " [0.88520548]\n",
      " [0.8321181 ]\n",
      " [0.76416877]\n",
      " [0.8377114 ]\n",
      " [0.20725335]\n",
      " [0.33692237]\n",
      " [0.64979346]\n",
      " [0.41165195]\n",
      " [0.060538  ]\n",
      " [0.57375399]\n",
      " [0.9380937 ]\n",
      " [0.08410935]\n",
      " [0.7308416 ]\n",
      " [0.51877362]\n",
      " [0.02618953]\n",
      " [0.08964231]\n",
      " [0.97015771]\n",
      " [0.31291072]\n",
      " [0.40616697]\n",
      " [0.70010677]\n",
      " [0.64963609]\n",
      " [0.56258885]\n",
      " [0.13774691]\n",
      " [0.0684747 ]\n",
      " [0.13183589]\n",
      " [0.68805551]\n",
      " [0.91778105]\n",
      " [0.20204406]\n",
      " [0.86017194]\n",
      " [0.3215776 ]\n",
      " [0.72906089]\n",
      " [0.88764697]\n",
      " [0.38335654]\n",
      " [0.52271365]\n",
      " [0.49104635]]\n"
     ]
    }
   ],
   "source": [
    "print(x1)"
   ]
  },
  {
   "cell_type": "code",
   "execution_count": 32,
   "metadata": {},
   "outputs": [],
   "source": [
    "poly=PolynomialFeatures()"
   ]
  },
  {
   "cell_type": "code",
   "execution_count": 34,
   "metadata": {},
   "outputs": [
    {
     "data": {
      "text/plain": [
       "array([[1.00000000e+00, 5.97937948e-01, 3.57529789e-01],\n",
       "       [1.00000000e+00, 7.52560020e-01, 5.66346583e-01],\n",
       "       [1.00000000e+00, 1.15381791e-01, 1.33129577e-02],\n",
       "       [1.00000000e+00, 7.10099426e-01, 5.04241195e-01],\n",
       "       [1.00000000e+00, 6.15574692e-01, 3.78932202e-01],\n",
       "       [1.00000000e+00, 3.02309898e-01, 9.13912746e-02],\n",
       "       [1.00000000e+00, 1.96702951e-01, 3.86920510e-02],\n",
       "       [1.00000000e+00, 3.81246713e-01, 1.45349057e-01],\n",
       "       [1.00000000e+00, 3.35683459e-01, 1.12683385e-01],\n",
       "       [1.00000000e+00, 5.98264842e-01, 3.57920821e-01],\n",
       "       [1.00000000e+00, 1.73145967e-01, 2.99795257e-02],\n",
       "       [1.00000000e+00, 8.08408151e-01, 6.53523738e-01],\n",
       "       [1.00000000e+00, 9.75129292e-01, 9.50877137e-01],\n",
       "       [1.00000000e+00, 6.44620111e-02, 4.15535088e-03],\n",
       "       [1.00000000e+00, 1.00683734e-01, 1.01372142e-02],\n",
       "       [1.00000000e+00, 6.45804739e-02, 4.17063761e-03],\n",
       "       [1.00000000e+00, 3.18909067e-01, 1.01702993e-01],\n",
       "       [1.00000000e+00, 5.96961268e-01, 3.56362755e-01],\n",
       "       [1.00000000e+00, 7.48583583e-01, 5.60377381e-01],\n",
       "       [1.00000000e+00, 3.72014026e-01, 1.38394436e-01],\n",
       "       [1.00000000e+00, 4.41372087e-01, 1.94809319e-01],\n",
       "       [1.00000000e+00, 6.22520041e-01, 3.87531202e-01],\n",
       "       [1.00000000e+00, 1.72671136e-01, 2.98153214e-02],\n",
       "       [1.00000000e+00, 7.98314984e-01, 6.37306813e-01],\n",
       "       [1.00000000e+00, 4.67284003e-01, 2.18354340e-01],\n",
       "       [1.00000000e+00, 6.71276397e-01, 4.50612001e-01],\n",
       "       [1.00000000e+00, 9.08113440e-01, 8.24670019e-01],\n",
       "       [1.00000000e+00, 2.43438943e-01, 5.92625188e-02],\n",
       "       [1.00000000e+00, 6.17542554e-01, 3.81358806e-01],\n",
       "       [1.00000000e+00, 9.86589822e-01, 9.73359477e-01],\n",
       "       [1.00000000e+00, 9.55824970e-01, 9.13601374e-01],\n",
       "       [1.00000000e+00, 9.14421432e-01, 8.36166555e-01],\n",
       "       [1.00000000e+00, 9.09229475e-01, 8.26698239e-01],\n",
       "       [1.00000000e+00, 8.67614115e-01, 7.52754253e-01],\n",
       "       [1.00000000e+00, 1.71965653e-01, 2.95721858e-02],\n",
       "       [1.00000000e+00, 8.52979246e-01, 7.27573594e-01],\n",
       "       [1.00000000e+00, 4.93015607e-01, 2.43064389e-01],\n",
       "       [1.00000000e+00, 4.88498888e-01, 2.38631163e-01],\n",
       "       [1.00000000e+00, 9.55462927e-01, 9.12909405e-01],\n",
       "       [1.00000000e+00, 8.77342324e-01, 7.69729553e-01],\n",
       "       [1.00000000e+00, 7.76013267e-01, 6.02196590e-01],\n",
       "       [1.00000000e+00, 4.27570039e-01, 1.82816139e-01],\n",
       "       [1.00000000e+00, 2.12485258e-01, 4.51499847e-02],\n",
       "       [1.00000000e+00, 2.16516912e-01, 4.68795731e-02],\n",
       "       [1.00000000e+00, 2.77364531e-01, 7.69310833e-02],\n",
       "       [1.00000000e+00, 5.03312035e-01, 2.53323005e-01],\n",
       "       [1.00000000e+00, 4.77071832e-01, 2.27597533e-01],\n",
       "       [1.00000000e+00, 1.82026485e-01, 3.31336413e-02],\n",
       "       [1.00000000e+00, 6.18451825e-01, 3.82482660e-01],\n",
       "       [1.00000000e+00, 8.87041953e-01, 7.86843426e-01],\n",
       "       [1.00000000e+00, 2.07756230e-01, 4.31626510e-02],\n",
       "       [1.00000000e+00, 4.21949435e-01, 1.78041326e-01],\n",
       "       [1.00000000e+00, 2.28451582e-01, 5.21901255e-02],\n",
       "       [1.00000000e+00, 9.04211473e-01, 8.17598388e-01],\n",
       "       [1.00000000e+00, 3.03209115e-01, 9.19357671e-02],\n",
       "       [1.00000000e+00, 5.20337830e-02, 2.70751457e-03],\n",
       "       [1.00000000e+00, 2.80856210e-01, 7.88802109e-02],\n",
       "       [1.00000000e+00, 9.84436262e-02, 9.69114753e-03],\n",
       "       [1.00000000e+00, 3.33717459e-01, 1.11367342e-01],\n",
       "       [1.00000000e+00, 5.65762439e-01, 3.20087137e-01],\n",
       "       [1.00000000e+00, 5.96042586e-01, 3.55266764e-01],\n",
       "       [1.00000000e+00, 3.72639588e-01, 1.38860263e-01],\n",
       "       [1.00000000e+00, 9.25939555e-01, 8.57364060e-01],\n",
       "       [1.00000000e+00, 7.89653921e-01, 6.23553315e-01],\n",
       "       [1.00000000e+00, 2.62144896e-02, 6.87199466e-04],\n",
       "       [1.00000000e+00, 8.85205477e-01, 7.83588737e-01],\n",
       "       [1.00000000e+00, 8.32118104e-01, 6.92420538e-01],\n",
       "       [1.00000000e+00, 7.64168766e-01, 5.83953903e-01],\n",
       "       [1.00000000e+00, 8.37711400e-01, 7.01760389e-01],\n",
       "       [1.00000000e+00, 2.07253348e-01, 4.29539505e-02],\n",
       "       [1.00000000e+00, 3.36922367e-01, 1.13516682e-01],\n",
       "       [1.00000000e+00, 6.49793460e-01, 4.22231541e-01],\n",
       "       [1.00000000e+00, 4.11651948e-01, 1.69457326e-01],\n",
       "       [1.00000000e+00, 6.05379953e-02, 3.66484888e-03],\n",
       "       [1.00000000e+00, 5.73753987e-01, 3.29193637e-01],\n",
       "       [1.00000000e+00, 9.38093701e-01, 8.80019792e-01],\n",
       "       [1.00000000e+00, 8.41093490e-02, 7.07438259e-03],\n",
       "       [1.00000000e+00, 7.30841597e-01, 5.34129440e-01],\n",
       "       [1.00000000e+00, 5.18773616e-01, 2.69126064e-01],\n",
       "       [1.00000000e+00, 2.61895301e-02, 6.85891488e-04],\n",
       "       [1.00000000e+00, 8.96423107e-02, 8.03574386e-03],\n",
       "       [1.00000000e+00, 9.70157710e-01, 9.41205982e-01],\n",
       "       [1.00000000e+00, 3.12910721e-01, 9.79131195e-02],\n",
       "       [1.00000000e+00, 4.06166973e-01, 1.64971610e-01],\n",
       "       [1.00000000e+00, 7.00106772e-01, 4.90149492e-01],\n",
       "       [1.00000000e+00, 6.49636088e-01, 4.22027047e-01],\n",
       "       [1.00000000e+00, 5.62588854e-01, 3.16506219e-01],\n",
       "       [1.00000000e+00, 1.37746914e-01, 1.89742123e-02],\n",
       "       [1.00000000e+00, 6.84746960e-02, 4.68878400e-03],\n",
       "       [1.00000000e+00, 1.31835886e-01, 1.73807008e-02],\n",
       "       [1.00000000e+00, 6.88055514e-01, 4.73420391e-01],\n",
       "       [1.00000000e+00, 9.17781047e-01, 8.42322050e-01],\n",
       "       [1.00000000e+00, 2.02044065e-01, 4.08218041e-02],\n",
       "       [1.00000000e+00, 8.60171943e-01, 7.39895771e-01],\n",
       "       [1.00000000e+00, 3.21577601e-01, 1.03412153e-01],\n",
       "       [1.00000000e+00, 7.29060893e-01, 5.31529785e-01],\n",
       "       [1.00000000e+00, 8.87646968e-01, 7.87917139e-01],\n",
       "       [1.00000000e+00, 3.83356543e-01, 1.46962239e-01],\n",
       "       [1.00000000e+00, 5.22713651e-01, 2.73229561e-01],\n",
       "       [1.00000000e+00, 4.91046349e-01, 2.41126517e-01]])"
      ]
     },
     "execution_count": 34,
     "metadata": {},
     "output_type": "execute_result"
    }
   ],
   "source": [
    "x_poly=poly.fit_transform(x1)\n",
    "x_poly"
   ]
  },
  {
   "cell_type": "code",
   "execution_count": 35,
   "metadata": {},
   "outputs": [
    {
     "data": {
      "text/plain": [
       "array([1.        , 0.71009943, 0.5042412 ])"
      ]
     },
     "execution_count": 35,
     "metadata": {},
     "output_type": "execute_result"
    }
   ],
   "source": [
    "x_poly[3]"
   ]
  },
  {
   "cell_type": "code",
   "execution_count": 36,
   "metadata": {},
   "outputs": [
    {
     "data": {
      "text/plain": [
       "PolynomialFeatures(degree=2, include_bias=True, interaction_only=False,\n",
       "                   order='C')"
      ]
     },
     "execution_count": 36,
     "metadata": {},
     "output_type": "execute_result"
    }
   ],
   "source": [
    "poly.fit(x1,y1)"
   ]
  },
  {
   "cell_type": "code",
   "execution_count": 37,
   "metadata": {},
   "outputs": [
    {
     "data": {
      "text/plain": [
       "PolynomialFeatures(degree=2, include_bias=True, interaction_only=False,\n",
       "                   order='C')"
      ]
     },
     "execution_count": 37,
     "metadata": {},
     "output_type": "execute_result"
    }
   ],
   "source": [
    "poly.fit(x_poly,y1)"
   ]
  },
  {
   "cell_type": "code",
   "execution_count": 39,
   "metadata": {},
   "outputs": [],
   "source": [
    "from sklearn.linear_model import LinearRegression\n",
    "lin=LinearRegression()\n"
   ]
  },
  {
   "cell_type": "code",
   "execution_count": 40,
   "metadata": {},
   "outputs": [
    {
     "data": {
      "text/plain": [
       "LinearRegression(copy_X=True, fit_intercept=True, n_jobs=None, normalize=False)"
      ]
     },
     "execution_count": 40,
     "metadata": {},
     "output_type": "execute_result"
    }
   ],
   "source": [
    "lin.fit(x_poly,y1)"
   ]
  },
  {
   "cell_type": "code",
   "execution_count": 41,
   "metadata": {},
   "outputs": [
    {
     "data": {
      "text/plain": [
       "array([0.50111052])"
      ]
     },
     "execution_count": 41,
     "metadata": {},
     "output_type": "execute_result"
    }
   ],
   "source": [
    "lin.intercept_"
   ]
  },
  {
   "cell_type": "code",
   "execution_count": 42,
   "metadata": {},
   "outputs": [
    {
     "data": {
      "text/plain": [
       "array([[0.        , 0.26519442, 1.28851602]])"
      ]
     },
     "execution_count": 42,
     "metadata": {},
     "output_type": "execute_result"
    }
   ],
   "source": [
    "lin.coef_"
   ]
  },
  {
   "cell_type": "code",
   "execution_count": 47,
   "metadata": {},
   "outputs": [],
   "source": [
    "y_predictions=lin.predict(x_poly)"
   ]
  },
  {
   "cell_type": "code",
   "execution_count": 46,
   "metadata": {},
   "outputs": [
    {
     "data": {
      "image/png": "[encoded data removed]",
      "text/plain": [
       "<Figure size 432x288 with 1 Axes>"
      ]
     },
     "metadata": {
      "needs_background": "light"
     },
     "output_type": "display_data"
    }
   ],
   "source": [
    "plt.scatter(x1,y1,c='g',label=\"before polynomial\")\n",
    "plt.plot(x1,y_predictions,c=\"r\",label=\"after polynomial linear regression\")\n",
    "plt.xlabel(\"x1\")\n",
    "plt.ylabel(\"y1\")\n",
    "plt.title(\"linear regression with polynomial features\")\n",
    "plt.legend('best')\n",
    "plt.show()"
   ]
  },
  {
   "cell_type": "code",
   "execution_count": null,
   "metadata": {},
   "outputs": [],
   "source": []
  }
 ],
 "metadata": {
  "kernelspec": {
   "display_name": "Python 3",
   "language": "python",
   "name": "python3"
  },
  "language_info": {
   "codemirror_mode": {
    "name": "ipython",
    "version": 3
   },
   "file_extension": ".py",
   "mimetype": "text/x-python",
   "name": "python",
   "nbconvert_exporter": "python",
   "pygments_lexer": "ipython3",
   "version": "3.7.3"
  }
 },
 "nbformat": 4,
 "nbformat_minor": 2
}
