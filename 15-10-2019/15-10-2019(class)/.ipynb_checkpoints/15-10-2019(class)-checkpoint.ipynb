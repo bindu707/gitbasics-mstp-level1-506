{
 "cells": [
  {
   "cell_type": "code",
   "execution_count": 8,
   "metadata": {},
   "outputs": [],
   "source": [
    "filepath=\"content.txt\"             #create the file\n",
    "def create(filepath):\n",
    "    with open(filepath,'w') as f:\n",
    "        f.write(\"hii\\n hello\\n welcome to python\")\n",
    "create(filepath)        "
   ]
  },
  {
   "cell_type": "code",
   "execution_count": 12,
   "metadata": {},
   "outputs": [
    {
     "name": "stdout",
     "output_type": "stream",
     "text": [
      "hii\n",
      " hello\n",
      " welcome to python\n"
     ]
    }
   ],
   "source": [
    "filepath=\"content.txt\"                #reading the data in the file\n",
    "def readdata(filepath):\n",
    "    with open(filepath,'r') as f:\n",
    "        f1=f.read()\n",
    "        print(f1)\n",
    "readdata(filepath)        "
   ]
  },
  {
   "cell_type": "code",
   "execution_count": 16,
   "metadata": {},
   "outputs": [],
   "source": [
    "filepath=\"studentmarks.txt\"              # generate marks for 50 students\n",
    "import random\n",
    "def marksmemo(filepath,n):\n",
    "    with open(filepath,'w') as f:\n",
    "        for i in range(n):\n",
    "            f.write(str(random.randint(1,100))+'\\n')\n",
    "marksmemo(filepath,50)            \n",
    "            \n",
    "    "
   ]
  },
  {
   "cell_type": "code",
   "execution_count": 19,
   "metadata": {},
   "outputs": [
    {
     "name": "stdout",
     "output_type": "stream",
     "text": [
      "2631\n",
      "50\n"
     ]
    },
    {
     "data": {
      "text/plain": [
       "52"
      ]
     },
     "execution_count": 19,
     "metadata": {},
     "output_type": "execute_result"
    }
   ],
   "source": [
    "filepath=\"studentmarks.txt\"\n",
    "def classavg(filepath):\n",
    "    s=0\n",
    "    c=0\n",
    "    with open(filepath,'r') as f:\n",
    "        f1=f.read()\n",
    "        l=f1.split()\n",
    "        for i in l:\n",
    "            s=s+int(i)\n",
    "            c=c+1\n",
    "        avg=s//c\n",
    "        print(s)\n",
    "        print(c)\n",
    "    return avg\n",
    "classavg(filepath)"
   ]
  },
  {
   "cell_type": "code",
   "execution_count": 1,
   "metadata": {},
   "outputs": [
    {
     "name": "stdout",
     "output_type": "stream",
     "text": [
      "70.0\n"
     ]
    }
   ],
   "source": [
    "filepath=\"studentmarks.txt\"  ## to find the pass percentage of students\n",
    "def passpercent(filepath):\n",
    "    c=0\n",
    "    h=0\n",
    "    with open(filepath,'r') as f:\n",
    "        f1=f.read()\n",
    "        l=f1.split()\n",
    "        for i in l:\n",
    "            h=h+1\n",
    "            if int(i)>=35:\n",
    "                c=c+1\n",
    "        print(c/h*100)\n",
    "passpercent(filepath)                "
   ]
  },
  {
   "cell_type": "code",
   "execution_count": 3,
   "metadata": {},
   "outputs": [
    {
     "name": "stdout",
     "output_type": "stream",
     "text": [
      "30.0\n"
     ]
    }
   ],
   "source": [
    "filepath=\"studentmarks.txt\"  ## to find the failpercentage of students \n",
    "def failpercent(filepath):\n",
    "    c=0\n",
    "    t=0\n",
    "    with open(filepath,'r') as f:\n",
    "        f1=f.read()\n",
    "        l=f1.split()\n",
    "        for i in l:\n",
    "            t=t+1\n",
    "            if int(i)<=35:\n",
    "                c=c+1\n",
    "        print(c/t*100)\n",
    "failpercent(filepath)    "
   ]
  },
  {
   "cell_type": "code",
   "execution_count": 14,
   "metadata": {},
   "outputs": [
    {
     "name": "stdout",
     "output_type": "stream",
     "text": [
      "98\n",
      "94\n",
      "97\n",
      "100\n",
      "92\n",
      "99\n",
      "91\n",
      "93\n",
      "100\n"
     ]
    }
   ],
   "source": [
    "filepath=\"studentmarks.txt\"  ## to find the  students got greater than 90 \n",
    "def greaterthan90(filepath):\n",
    "    t=0\n",
    "    with open(filepath,'r') as f:\n",
    "        f1=f.read()\n",
    "        l=f1.split()\n",
    "        for i in l:\n",
    "            t=t+1\n",
    "            if int(i)>=90:\n",
    "                print(i)\n",
    "greaterthan90(filepath)    "
   ]
  },
  {
   "cell_type": "code",
   "execution_count": 12,
   "metadata": {},
   "outputs": [
    {
     "name": "stdout",
     "output_type": "stream",
     "text": [
      "11\n",
      "9\n",
      "13\n",
      "3\n",
      "10\n",
      "19\n",
      "10\n",
      "8\n",
      "15\n",
      "4\n"
     ]
    }
   ],
   "source": [
    "filepath=\"studentmarks.txt\"  ## to find the  students got less than 20 \n",
    "def lessthan20(filepath):\n",
    "    t=0\n",
    "    with open(filepath,'r') as f:\n",
    "        f1=f.read()\n",
    "        l=f1.split()\n",
    "        for i in l:\n",
    "            t=t+1\n",
    "            if int(i)<=20:\n",
    "                print(i)\n",
    "lessthan20(filepath)    "
   ]
  },
  {
   "cell_type": "code",
   "execution_count": 25,
   "metadata": {},
   "outputs": [
    {
     "name": "stdout",
     "output_type": "stream",
     "text": [
      "hii : 1\n",
      " hello : 1\n",
      " welcome to python : 1\n",
      " hii : 1\n"
     ]
    }
   ],
   "source": [
    "## to find the frequency of words using set\n",
    "filepath=\"content.txt\"     \n",
    "def frequencyofwords(filepath):\n",
    "    with open(filepath,'r') as f:\n",
    "        f1=f.read()\n",
    "        l=f1.split('\\n')\n",
    "        for i in set(l):\n",
    "            print(i,':',l.count(i))\n",
    "frequencyofwords(filepath)            \n",
    "    "
   ]
  },
  {
   "cell_type": "code",
   "execution_count": 28,
   "metadata": {},
   "outputs": [
    {
     "name": "stdout",
     "output_type": "stream",
     "text": [
      "{'hii': 2, 'hello': 1, 'welcome': 1, 'to': 1, 'python': 1}\n"
     ]
    }
   ],
   "source": [
    "## using dictionaries\n",
    "filepath=\"content.txt\"  \n",
    "d={}\n",
    "def frequencyofwords(filepath):\n",
    "    with open(filepath,'r') as f:\n",
    "        f1=f.read()\n",
    "        l=f1.split()\n",
    "        for i in l:\n",
    "            d[i]=l.count(i)\n",
    "        print(d)\n",
    "frequencyofwords(filepath)            \n",
    "    "
   ]
  },
  {
   "cell_type": "code",
   "execution_count": 30,
   "metadata": {},
   "outputs": [
    {
     "name": "stdout",
     "output_type": "stream",
     "text": [
      "hii\n",
      " hello\n",
      " welcome to python\n",
      " hii\n",
      "hii\n",
      " hello\n",
      " java to python\n",
      " hii\n"
     ]
    }
   ],
   "source": [
    "#replace of data to a new data\n",
    "filepath=\"content.txt\"     \n",
    "def findreplace(filepath):\n",
    "    with open(filepath,'r') as f:\n",
    "        f1=f.read()\n",
    "        for i in f1:\n",
    "            s=f1.replace(\"welcome\",\"java\")\n",
    "        print(f1)\n",
    "        print(s)\n",
    "findreplace(filepath)        \n",
    "        "
   ]
  },
  {
   "cell_type": "code",
   "execution_count": 1,
   "metadata": {},
   "outputs": [
    {
     "name": "stdout",
     "output_type": "stream",
     "text": [
      "18.0\n"
     ]
    }
   ],
   "source": [
    "filepath=\"studentmarks.txt\"  ## to find the first class percentage\n",
    "def passpercent(filepath):\n",
    "    c=0\n",
    "    h=0\n",
    "    with open(filepath,'r') as f:\n",
    "        f1=f.read()\n",
    "        l=f1.split()\n",
    "        for i in l:\n",
    "            h=h+1\n",
    "            if int(i)>=90:\n",
    "                c=c+1\n",
    "        print(c/h*100)\n",
    "passpercent(filepath)      "
   ]
  },
  {
   "cell_type": "code",
   "execution_count": 2,
   "metadata": {},
   "outputs": [
    {
     "name": "stdout",
     "output_type": "stream",
     "text": [
      "52.0\n"
     ]
    }
   ],
   "source": [
    "filepath=\"studentmarks.txt\"  ## to find the second class percentage\n",
    "def passpercent(filepath):\n",
    "    c=0\n",
    "    h=0\n",
    "    with open(filepath,'r') as f:\n",
    "        f1=f.read()\n",
    "        l=f1.split()\n",
    "        for i in l:\n",
    "            h=h+1\n",
    "            if int(i)>=50:\n",
    "                c=c+1\n",
    "        print(c/h*100)\n",
    "passpercent(filepath)      "
   ]
  },
  {
   "cell_type": "code",
   "execution_count": 3,
   "metadata": {},
   "outputs": [
    {
     "name": "stdout",
     "output_type": "stream",
     "text": [
      "64.0\n"
     ]
    }
   ],
   "source": [
    "filepath=\"studentmarks.txt\"  ## to find the thirdclass of students\n",
    "def passpercent(filepath):\n",
    "    c=0\n",
    "    h=0\n",
    "    with open(filepath,'r') as f:\n",
    "        f1=f.read()\n",
    "        l=f1.split()\n",
    "        for i in l:\n",
    "            h=h+1\n",
    "            if int(i)>=40:\n",
    "                c=c+1\n",
    "        print(c/h*100)\n",
    "passpercent(filepath)      "
   ]
  },
  {
   "cell_type": "code",
   "execution_count": null,
   "metadata": {},
   "outputs": [],
   "source": []
  }
 ],
 "metadata": {
  "kernelspec": {
   "display_name": "Python 3",
   "language": "python",
   "name": "python3"
  },
  "language_info": {
   "codemirror_mode": {
    "name": "ipython",
    "version": 3
   },
   "file_extension": ".py",
   "mimetype": "text/x-python",
   "name": "python",
   "nbconvert_exporter": "python",
   "pygments_lexer": "ipython3",
   "version": "3.7.3"
  }
 },
 "nbformat": 4,
 "nbformat_minor": 2
}
