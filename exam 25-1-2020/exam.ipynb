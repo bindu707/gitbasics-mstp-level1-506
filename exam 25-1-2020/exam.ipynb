{
 "cells": [
  {
   "cell_type": "markdown",
   "metadata": {},
   "source": [
    "# 1.Write the pandas program to change the order of index of a given series?"
   ]
  },
  {
   "cell_type": "code",
   "execution_count": 2,
   "metadata": {},
   "outputs": [
    {
     "name": "stdout",
     "output_type": "stream",
     "text": [
      "Original Data Series:\n",
      "A    1\n",
      "B    2\n",
      "C    3\n",
      "D    4\n",
      "E    5\n",
      "dtype: int64\n",
      "Data Series after changing the order of index:\n",
      "B    2\n",
      "A    1\n",
      "C    3\n",
      "D    4\n",
      "E    5\n",
      "dtype: int64\n"
     ]
    }
   ],
   "source": [
    "import pandas as pd\n",
    "a = pd.Series(data = [1,2,3,4,5], index = ['A', 'B', 'C','D','E'])\n",
    "print(\"Original Data Series:\")\n",
    "print(a)\n",
    "a = a.reindex(index = ['B','A','C','D','E'])\n",
    "print(\"Data Series after changing the order of index:\")\n",
    "print(a)"
   ]
  },
  {
   "cell_type": "markdown",
   "metadata": {},
   "source": [
    "# 2.Write a python program to add, subtract,multiple and divide two pandas series\n",
    "sample series:[2,4,6,8,10],[1,3,5,7,9]"
   ]
  },
  {
   "cell_type": "code",
   "execution_count": 4,
   "metadata": {},
   "outputs": [
    {
     "name": "stdout",
     "output_type": "stream",
     "text": [
      "Add two Series:\n",
      "0     3\n",
      "1     7\n",
      "2    11\n",
      "3    15\n",
      "4    19\n",
      "dtype: int64\n",
      "Subtract two Series:\n",
      "0    1\n",
      "1    1\n",
      "2    1\n",
      "3    1\n",
      "4    1\n",
      "dtype: int64\n",
      "Multiply two Series:\n",
      "0     2\n",
      "1    12\n",
      "2    30\n",
      "3    56\n",
      "4    90\n",
      "dtype: int64\n",
      "Divide Series1 by Series2:\n",
      "0    2.000000\n",
      "1    1.333333\n",
      "2    1.200000\n",
      "3    1.142857\n",
      "4    1.111111\n",
      "dtype: float64\n"
     ]
    }
   ],
   "source": [
    "import pandas as pd\n",
    "s1 = pd.Series([2, 4, 6, 8, 10])\n",
    "s2 = pd.Series([1, 3, 5, 7, 9])\n",
    "s = s1 + s2\n",
    "print(\"Add two Series:\")\n",
    "print(s)\n",
    "print(\"Subtract two Series:\")\n",
    "s = s1 - s2\n",
    "print(s)\n",
    "print(\"Multiply two Series:\")\n",
    "s = s1 * s2\n",
    "print(s)\n",
    "print(\"Divide Series1 by Series2:\")\n",
    "s = s1 / s2\n",
    "print(s)"
   ]
  },
  {
   "cell_type": "markdown",
   "metadata": {},
   "source": [
    "# 3.Write a python to convert a panda module series to python list and its type"
   ]
  },
  {
   "cell_type": "code",
   "execution_count": 6,
   "metadata": {},
   "outputs": [
    {
     "name": "stdout",
     "output_type": "stream",
     "text": [
      "Pandas Series and type\n",
      "0     2\n",
      "1     4\n",
      "2     6\n",
      "3     8\n",
      "4    10\n",
      "dtype: int64\n",
      "<class 'pandas.core.series.Series'>\n",
      "Convert Pandas Series to Python list\n",
      "[2, 4, 6, 8, 10]\n",
      "<class 'list'>\n"
     ]
    }
   ],
   "source": [
    "import pandas as pd\n",
    "s = pd.Series([2, 4, 6, 8, 10])\n",
    "print(\"Pandas Series and type\")\n",
    "print(s)\n",
    "print(type(s))\n",
    "print(\"Convert Pandas Series to Python list\")\n",
    "print(s.tolist())\n",
    "print(type(s.tolist()))"
   ]
  },
  {
   "cell_type": "markdown",
   "metadata": {},
   "source": [
    "# 4. Write a panda program to select the rowa where the score is missing,i.e is NaN"
   ]
  },
  {
   "cell_type": "code",
   "execution_count": 8,
   "metadata": {},
   "outputs": [
    {
     "name": "stdout",
     "output_type": "stream",
     "text": [
      "Rows where score is missing:\n",
      "    name  score  attempts qualify\n",
      "d  madhu    NaN         3      no\n",
      "h    sai    NaN         1      no\n"
     ]
    }
   ],
   "source": [
    "import pandas as pd\n",
    "import numpy as p\n",
    "exam_data  = {'name': ['bindu', 'sukku', 'divya', 'madhu', 'shakeer', 'nani', 'chandu', 'sai', 'uday', 'manu'],\n",
    "        'score': [12.5, 9, 16.5, p.nan, 9, 20, 14.5, p.nan, 8, 19],\n",
    "        'attempts': [1, 3, 2, 3, 2, 3, 1, 1, 2, 1],\n",
    "        'qualify': ['yes', 'no', 'yes', 'no', 'no', 'yes', 'yes', 'no', 'no', 'yes']}\n",
    "labels = ['a', 'b', 'c', 'd', 'e', 'f', 'g', 'h', 'i', 'j']\n",
    "\n",
    "f = pd.DataFrame(exam_data , index=labels)\n",
    "print(\"Rows where score is missing:\")\n",
    "print(f[f['score'].isnull()])"
   ]
  },
  {
   "cell_type": "markdown",
   "metadata": {},
   "source": [
    "# 5.Write a numpy program to create a 3*3 matrix with values ranging from 2 to 10?"
   ]
  },
  {
   "cell_type": "code",
   "execution_count": 10,
   "metadata": {},
   "outputs": [
    {
     "name": "stdout",
     "output_type": "stream",
     "text": [
      "[[ 2  3  4]\n",
      " [ 5  6  7]\n",
      " [ 8  9 10]]\n"
     ]
    }
   ],
   "source": [
    "import numpy as p\n",
    "x =  p.arange(2, 11).reshape(3,3)\n",
    "print(x)\n"
   ]
  },
  {
   "cell_type": "markdown",
   "metadata": {},
   "source": [
    "## 6.IIIustrate the difference between ravel and flatten by taking considering multidimensinal array"
   ]
  },
  {
   "cell_type": "code",
   "execution_count": 15,
   "metadata": {},
   "outputs": [
    {
     "name": "stdout",
     "output_type": "stream",
     "text": [
      "[ 2  3  4  5  6  7  8  9 10]\n",
      "[12 13 14 15 16 17 18 19 20]\n"
     ]
    }
   ],
   "source": [
    "a1=np.arange (2,11).reshape(3,3)\n",
    "a2=np.arange(12,21).reshape(3,3)\n",
    "print(a1.ravel())\n",
    "print(a2.flatten())"
   ]
  },
  {
   "cell_type": "markdown",
   "metadata": {},
   "source": [
    "## 7.Create a 3*3 numpy array,find out the minimum maximun  values and also their indices accordingly for each axes.Also find the statistical methods such as standard Deviation cumulative sum and product?"
   ]
  },
  {
   "cell_type": "code",
   "execution_count": 14,
   "metadata": {},
   "outputs": [
    {
     "name": "stdout",
     "output_type": "stream",
     "text": [
      "[[ 2  3  4]\n",
      " [ 5  6  7]\n",
      " [ 8  9 10]]\n",
      "min 2\n",
      "max 10\n",
      "std 2.581988897471611\n",
      "cumulative sum [ 2  5  9 14 20 27 35 44 54]\n",
      "cumlative product [      2       6      24     120     720    5040   40320  362880 3628800]\n"
     ]
    }
   ],
   "source": [
    "r=np.arange(2,11).reshape(3,3)\n",
    "print(r)\n",
    "print('min',r.min())\n",
    "print('max',r.max())\n",
    "print('std',r.std())\n",
    "print('cumulative sum',r.cumsum())\n",
    "print('cumlative product',r.cumprod())"
   ]
  },
  {
   "cell_type": "markdown",
   "metadata": {},
   "source": [
    "## 8.Create a data frame (with some values)find out information about that dataframe and description and sum of null values?"
   ]
  },
  {
   "cell_type": "code",
   "execution_count": 20,
   "metadata": {},
   "outputs": [
    {
     "name": "stdout",
     "output_type": "stream",
     "text": [
      "   rollNo  sub1  sub2\n",
      "0     510  34.0  65.0\n",
      "1     555  65.0  34.0\n",
      "2     506   NaN  45.0\n",
      "3     550  34.0  56.0\n",
      "4     594  76.0   NaN\n"
     ]
    }
   ],
   "source": [
    "s=pd.DataFrame({\"rollNo\":[510,555,506,550,594],'sub1':[34,65,np.nan,34,76],'sub2':[65,34,45,56,np.nan]})\n",
    "print(s)"
   ]
  },
  {
   "cell_type": "markdown",
   "metadata": {},
   "source": [
    "## 9.Write a pandas program to get the first 3 rows and last 2 rows of a given data frame"
   ]
  },
  {
   "cell_type": "code",
   "execution_count": 17,
   "metadata": {},
   "outputs": [
    {
     "name": "stdout",
     "output_type": "stream",
     "text": [
      "    0   1   2   3   4\n",
      "0   2   3   4   5   6\n",
      "1   7   8   9  10  11\n",
      "2  12  13  14  15  16\n",
      "3  17  18  19  20  21\n",
      "4  22  23  24  25  26\n",
      "first 3 rows\n",
      "    0   1   2   3   4\n",
      "0   2   3   4   5   6\n",
      "1   7   8   9  10  11\n",
      "2  12  13  14  15  16\n",
      "last 2 rows\n",
      "    0   1   2   3   4\n",
      "3  17  18  19  20  21\n",
      "4  22  23  24  25  26\n"
     ]
    }
   ],
   "source": [
    "s=pd.DataFrame(np.arange(2,27).reshape(5,5))\n",
    "print(s)\n",
    "print('first 3 rows')\n",
    "print(s.head(3))\n",
    "print('last 2 rows')\n",
    "print(s.tail(2))"
   ]
  },
  {
   "cell_type": "code",
   "execution_count": null,
   "metadata": {},
   "outputs": [],
   "source": []
  }
 ],
 "metadata": {
  "kernelspec": {
   "display_name": "Python 3",
   "language": "python",
   "name": "python3"
  },
  "language_info": {
   "codemirror_mode": {
    "name": "ipython",
    "version": 3
   },
   "file_extension": ".py",
   "mimetype": "text/x-python",
   "name": "python",
   "nbconvert_exporter": "python",
   "pygments_lexer": "ipython3",
   "version": "3.7.3"
  }
 },
 "nbformat": 4,
 "nbformat_minor": 2
}
