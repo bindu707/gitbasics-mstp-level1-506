{
 "cells": [
  {
   "cell_type": "markdown",
   "metadata": {},
   "source": [
    "## Functions\n",
    "###   Reusability\n",
    "### easy to debug\n",
    "\n",
    "## function declaration\n",
    "## function definition\n",
    "## function calling"
   ]
  },
  {
   "cell_type": "markdown",
   "metadata": {},
   "source": [
    "def functionname():\n",
    "    statement1\n",
    "    statement2\n",
    "functionname() #function calling\n"
   ]
  },
  {
   "cell_type": "code",
   "execution_count": 2,
   "metadata": {},
   "outputs": [
    {
     "name": "stdout",
     "output_type": "stream",
     "text": [
      "2\n",
      "3\n",
      "5\n"
     ]
    }
   ],
   "source": [
    "def addition():\n",
    "    a=int(input())\n",
    "    b=int(input())\n",
    "    print(a+b)\n",
    "addition()"
   ]
  },
  {
   "cell_type": "markdown",
   "metadata": {},
   "source": [
    "###  function arguments"
   ]
  },
  {
   "cell_type": "code",
   "execution_count": 3,
   "metadata": {},
   "outputs": [
    {
     "name": "stdout",
     "output_type": "stream",
     "text": [
      "2\n",
      "3\n",
      "5\n"
     ]
    }
   ],
   "source": [
    "def addition(a,b):\n",
    "    c=a+b\n",
    "    print(c)\n",
    "    \n",
    "a=int(input())\n",
    "b=int(input())\n",
    "addition(a,b)"
   ]
  },
  {
   "cell_type": "code",
   "execution_count": 5,
   "metadata": {},
   "outputs": [
    {
     "data": {
      "text/plain": [
       "(10, 20, 30)"
      ]
     },
     "execution_count": 5,
     "metadata": {},
     "output_type": "execute_result"
    }
   ],
   "source": [
    "def add(a,b):\n",
    "    c=a+b\n",
    "   \n",
    "    return (a,b,c)\n",
    "add(10,20)"
   ]
  },
  {
   "cell_type": "code",
   "execution_count": 11,
   "metadata": {},
   "outputs": [
    {
     "name": "stdout",
     "output_type": "stream",
     "text": [
      "2\n",
      "even\n"
     ]
    }
   ],
   "source": [
    "# even or odd\n",
    "def evenodd(b):\n",
    "    if b%2==0:\n",
    "        print(\"even\")\n",
    "    else:\n",
    "        print(\"odd\")\n",
    "b=int(input())\n",
    "evenodd(b)\n",
    " "
   ]
  },
  {
   "cell_type": "code",
   "execution_count": 16,
   "metadata": {},
   "outputs": [
    {
     "name": "stdout",
     "output_type": "stream",
     "text": [
      "210\n"
     ]
    }
   ],
   "source": [
    "## sum of n natural numbers\n",
    "def sum(n):\n",
    "    s=0\n",
    "    for i in range(1,n+1):\n",
    "        s=s+i\n",
    "    print(s)\n",
    "sum(20)    "
   ]
  },
  {
   "cell_type": "markdown",
   "metadata": {},
   "source": [
    "## product of the natural numbers\n"
   ]
  },
  {
   "cell_type": "code",
   "execution_count": 24,
   "metadata": {},
   "outputs": [
    {
     "name": "stdout",
     "output_type": "stream",
     "text": [
      "6\n",
      "720\n"
     ]
    }
   ],
   "source": [
    "def product(x):\n",
    "    p=1\n",
    "    for i in range(1,x+1):\n",
    "        p=p*i\n",
    "    print(p)\n",
    "x=int(input())\n",
    "product(x)"
   ]
  },
  {
   "cell_type": "markdown",
   "metadata": {},
   "source": [
    "### average of first n natural numbers"
   ]
  },
  {
   "cell_type": "code",
   "execution_count": 38,
   "metadata": {},
   "outputs": [
    {
     "name": "stdout",
     "output_type": "stream",
     "text": [
      "5\n",
      "15\n",
      "5\n",
      "3.0\n"
     ]
    }
   ],
   "source": [
    "def avg(x):\n",
    "    sum=0\n",
    "    count=0\n",
    "    for i in range(1,x+1):\n",
    "        sum=sum+i\n",
    "        count=count+1\n",
    "        average=sum/count\n",
    "    print(sum)\n",
    "    print(count)\n",
    "    print(average)\n",
    "x=int(input())\n",
    "avg(x)    \n",
    "    \n",
    "    \n",
    "    \n"
   ]
  },
  {
   "cell_type": "markdown",
   "metadata": {},
   "source": [
    "### fibinocci of a given number"
   ]
  },
  {
   "cell_type": "code",
   "execution_count": 4,
   "metadata": {},
   "outputs": [
    {
     "name": "stdout",
     "output_type": "stream",
     "text": [
      "3\n",
      "0\n",
      "1\n",
      "1\n"
     ]
    }
   ],
   "source": [
    "def fibinocci(n):\n",
    "    a=0\n",
    "    b=1\n",
    "    print(a,b,sep='\\n')\n",
    "    for i in range(1,n-1):\n",
    "        c=a+b\n",
    "        a=b\n",
    "        b=c\n",
    "        print(c)\n",
    "n=int(input())\n",
    "fibinocci(n)\n",
    "    "
   ]
  },
  {
   "cell_type": "markdown",
   "metadata": {},
   "source": [
    "## factors of a given number"
   ]
  },
  {
   "cell_type": "code",
   "execution_count": 6,
   "metadata": {},
   "outputs": [
    {
     "name": "stdout",
     "output_type": "stream",
     "text": [
      "6\n",
      "1\n",
      "2\n",
      "3\n",
      "6\n"
     ]
    }
   ],
   "source": [
    "def factor(n):\n",
    "    for i in range(1,n+1):\n",
    "        if (n%i==0):\n",
    "            print(i)\n",
    "n=int(input())\n",
    "factor(n)"
   ]
  },
  {
   "cell_type": "markdown",
   "metadata": {},
   "source": [
    "## print the factors sum of a given number"
   ]
  },
  {
   "cell_type": "code",
   "execution_count": 9,
   "metadata": {},
   "outputs": [
    {
     "name": "stdout",
     "output_type": "stream",
     "text": [
      "3\n",
      "1 3 4\n"
     ]
    }
   ],
   "source": [
    "def sumfactor(n):\n",
    "    sum=0\n",
    "    for i in range(1,n+1):\n",
    "        if (n%i==0):\n",
    "            print(i,end=\" \")\n",
    "            sum=sum+i\n",
    "    print(sum)\n",
    "n=int(input())\n",
    "sumfactor(n)"
   ]
  },
  {
   "cell_type": "markdown",
   "metadata": {},
   "source": [
    "## whether the given number is leap year or not"
   ]
  },
  {
   "cell_type": "code",
   "execution_count": 19,
   "metadata": {},
   "outputs": [
    {
     "name": "stdout",
     "output_type": "stream",
     "text": [
      "2000\n",
      "leapyear\n"
     ]
    }
   ],
   "source": [
    "def leapyear(y):\n",
    "    if(y%4==0)&(y%100!=0)|(y%400==0):\n",
    "        print(\"leapyear\")\n",
    "    else:\n",
    "        print(\"not a leapyear\")\n",
    "y=int(input())\n",
    "leapyear(y)\n",
    "        "
   ]
  },
  {
   "cell_type": "code",
   "execution_count": null,
   "metadata": {},
   "outputs": [],
   "source": []
  }
 ],
 "metadata": {
  "kernelspec": {
   "display_name": "Python 3",
   "language": "python",
   "name": "python3"
  },
  "language_info": {
   "codemirror_mode": {
    "name": "ipython",
    "version": 3
   },
   "file_extension": ".py",
   "mimetype": "text/x-python",
   "name": "python",
   "nbconvert_exporter": "python",
   "pygments_lexer": "ipython3",
   "version": "3.7.3"
  }
 },
 "nbformat": 4,
 "nbformat_minor": 2
}
